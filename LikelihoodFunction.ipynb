{
  "nbformat": 4,
  "nbformat_minor": 0,
  "metadata": {
    "colab": {
      "name": "LikelihoodFunction.ipynb",
      "provenance": [],
      "authorship_tag": "ABX9TyMoDVAanZzzJQiZdgUgPNUG",
      "include_colab_link": true
    },
    "kernelspec": {
      "name": "python3",
      "display_name": "Python 3"
    }
  },
  "cells": [
    {
      "cell_type": "markdown",
      "metadata": {
        "id": "view-in-github",
        "colab_type": "text"
      },
      "source": [
        "<a href=\"https://colab.research.google.com/github/aruntakhur/MachineLearning_2021_IIITDWD/blob/main/LikelihoodFunction.ipynb\" target=\"_parent\"><img src=\"https://colab.research.google.com/assets/colab-badge.svg\" alt=\"Open In Colab\"/></a>"
      ]
    },
    {
      "cell_type": "markdown",
      "metadata": {
        "id": "0vtwhpFcoGne"
      },
      "source": [
        "Correct the following code to plot log likelihood function."
      ]
    },
    {
      "cell_type": "code",
      "metadata": {
        "id": "kzGpoKekdZLB"
      },
      "source": [
        "import numpy as np\r\n",
        "import matplotlib.pyplot as plt"
      ],
      "execution_count": 1,
      "outputs": []
    },
    {
      "cell_type": "code",
      "metadata": {
        "id": "hPSCLXekdi_w"
      },
      "source": [
        "mu, sigma = 5, 1\r\n",
        "x = np.random.normal(mu, sigma, 10)"
      ],
      "execution_count": 2,
      "outputs": []
    },
    {
      "cell_type": "code",
      "metadata": {
        "colab": {
          "base_uri": "https://localhost:8080/"
        },
        "id": "ojH6GnTOeo1p",
        "outputId": "6326ed1e-6c2f-421d-c4bc-eb5751ed78c7"
      },
      "source": [
        "#likelihood function  1/sqrt(2*pi) exp(0.5*(x-mu)**2)\r\n",
        "prob = (1/np.sqrt(2*np.pi))*np.exp(0.5*(x-mu)**2)\r\n",
        "likelihood = np.prod(prob)\r\n",
        "print(likelihood)"
      ],
      "execution_count": 3,
      "outputs": [
        {
          "output_type": "stream",
          "text": [
            "0.0028568452654448044\n"
          ],
          "name": "stdout"
        }
      ]
    },
    {
      "cell_type": "code",
      "metadata": {
        "id": "SPHc2cH5gBYQ"
      },
      "source": [
        "mean = np.linspace(0,10,50)\r\n",
        "prob = np.zeros(len(mean)).reshape(50,1)\r\n",
        "for i,mu in enumerate(mean):\r\n",
        "    prob[i,0] = np.prod((1/np.sqrt(2*np.pi))*np.exp(0.5*(x-mu)**2))\r\n",
        "    #log_prob = np.prod((-0.5*np.sum(x-mu)**2) - 5*np.log(1) - 5*np.log(2*np.pi))\r\n",
        "    #likelihood = np.prod(prob)\r\n",
        "#print(prob)"
      ],
      "execution_count": 4,
      "outputs": []
    },
    {
      "cell_type": "code",
      "metadata": {
        "colab": {
          "base_uri": "https://localhost:8080/",
          "height": 294
        },
        "id": "B7VOTcUnlkeD",
        "outputId": "85dcdc3c-49bc-4334-c774-8e9481ad477b"
      },
      "source": [
        "plt.plot(mean,prob[:,0])"
      ],
      "execution_count": 5,
      "outputs": [
        {
          "output_type": "execute_result",
          "data": {
            "text/plain": [
              "[<matplotlib.lines.Line2D at 0x7f51c807a978>]"
            ]
          },
          "metadata": {
            "tags": []
          },
          "execution_count": 5
        },
        {
          "output_type": "display_data",
          "data": {
            "image/png": "[encoded data removed]",
            "text/plain": [
              "<Figure size 432x288 with 1 Axes>"
            ]
          },
          "metadata": {
            "tags": [],
            "needs_background": "light"
          }
        }
      ]
    }
  ]
}